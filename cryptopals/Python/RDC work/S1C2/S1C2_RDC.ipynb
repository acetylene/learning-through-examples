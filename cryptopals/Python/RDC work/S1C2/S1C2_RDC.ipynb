{
 "cells": [
  {
   "cell_type": "code",
   "execution_count": 11,
   "metadata": {},
   "outputs": [],
   "source": [
    "# %load xor_hexstr\n",
    "import binascii as ba\n",
    "\n",
    "def xor_hex(str1,str2):\n",
    "\ttry:\n",
    "\t\tassert len(str2)==len(str1), \"length of strings is not equal\"\n",
    "\t\tbstr1=ba.a2b_hex(str1)\n",
    "\t\tbstr2=ba.a2b_hex(str2)\n",
    "\t\ttmp = [chr(bstr1[x]^bstr2[x]) for x in range(len(bstr1))]\n",
    "\t\toutstr=ba.a2b_qp(\"\".join(tmp))\n",
    "\texcept Exception as e:\n",
    "\t\traise e\n",
    "\treturn ba.b2a_hex(outstr)"
   ]
  },
  {
   "cell_type": "code",
   "execution_count": 1,
   "metadata": {},
   "outputs": [],
   "source": [
    "file = open('xortest.txt', 'r')"
   ]
  },
  {
   "cell_type": "code",
   "execution_count": 2,
   "metadata": {},
   "outputs": [],
   "source": [
    "str1 = file.readline()\n",
    "str2 = file.readline()\n",
    "str3 = file.readline()\n",
    "file.close()"
   ]
  },
  {
   "cell_type": "code",
   "execution_count": 3,
   "metadata": {},
   "outputs": [
    {
     "data": {
      "text/plain": [
       "['1c0111001f010100061a024b53535009181c\\n',\n",
       " '686974207468652062756c6c277320657965\\n',\n",
       " '746865206b696420646f6e277420706c6179']"
      ]
     },
     "execution_count": 3,
     "metadata": {},
     "output_type": "execute_result"
    }
   ],
   "source": [
    "[str1, str2, str3]"
   ]
  },
  {
   "cell_type": "code",
   "execution_count": 5,
   "metadata": {},
   "outputs": [],
   "source": [
    "str1 = str1[:-1]\n",
    "str2 = str2[:-1]"
   ]
  },
  {
   "cell_type": "code",
   "execution_count": 6,
   "metadata": {},
   "outputs": [
    {
     "data": {
      "text/plain": [
       "['1c0111001f010100061a024b53535009181c',\n",
       " '686974207468652062756c6c277320657965',\n",
       " '746865206b696420646f6e277420706c6179']"
      ]
     },
     "execution_count": 6,
     "metadata": {},
     "output_type": "execute_result"
    }
   ],
   "source": [
    "[str1, str2, str3]"
   ]
  },
  {
   "cell_type": "code",
   "execution_count": 12,
   "metadata": {},
   "outputs": [],
   "source": [
    "xorstr = xor_hex(str1,str2)"
   ]
  },
  {
   "cell_type": "code",
   "execution_count": 16,
   "metadata": {},
   "outputs": [
    {
     "data": {
      "text/plain": [
       "True"
      ]
     },
     "execution_count": 16,
     "metadata": {},
     "output_type": "execute_result"
    }
   ],
   "source": [
    "str(xorstr)[2:-1] == str3"
   ]
  },
  {
   "cell_type": "code",
   "execution_count": null,
   "metadata": {},
   "outputs": [],
   "source": []
  }
 ],
 "metadata": {
  "anaconda-cloud": {},
  "kernelspec": {
   "display_name": "Python 3",
   "language": "python",
   "name": "python3"
  },
  "language_info": {
   "codemirror_mode": {
    "name": "ipython",
    "version": 3
   },
   "file_extension": ".py",
   "mimetype": "text/x-python",
   "name": "python",
   "nbconvert_exporter": "python",
   "pygments_lexer": "ipython3",
   "version": "3.7.3"
  }
 },
 "nbformat": 4,
 "nbformat_minor": 1
}

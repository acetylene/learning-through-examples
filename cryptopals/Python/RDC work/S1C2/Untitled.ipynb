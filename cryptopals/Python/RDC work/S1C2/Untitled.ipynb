{
 "cells": [
  {
   "cell_type": "code",
   "execution_count": 2,
   "metadata": {},
   "outputs": [],
   "source": [
    "# %load xor_hexstr\n",
    "import binascii as ba\n",
    "\n",
    "def xor_hex(str1,str2):\n",
    "\ttry:\n",
    "\t\tassert len(str2)==len(str1), \"length of strings is not equal\"\n",
    "\t\tbstr1=ba.a2b_hex(str1)\n",
    "\t\tbstr2=ba.a2b_hex(str2)\n",
    "\t\ttmp = [chr(bstr1[x]^bstr2[x]) for x in range(len(bstr1))]\n",
    "\t\toutstr=a2b_qp(\"\".join(tmp))\n",
    "\texcept Exception as e:\n",
    "\t\traise e\n",
    "\treturn ba.b2a_hex(outstr)"
   ]
  },
  {
   "cell_type": "code",
   "execution_count": null,
   "metadata": {
    "collapsed": true
   },
   "outputs": [],
   "source": []
  }
 ],
 "metadata": {
  "anaconda-cloud": {},
  "kernelspec": {
   "display_name": "Python 3",
   "language": "python",
   "name": "python3"
  },
  "language_info": {
   "codemirror_mode": {
    "name": "ipython",
    "version": 3
   },
   "file_extension": ".py",
   "mimetype": "text/x-python",
   "name": "python",
   "nbconvert_exporter": "python",
   "pygments_lexer": "ipython3",
   "version": "3.7.3"
  }
 },
 "nbformat": 4,
 "nbformat_minor": 1
}
